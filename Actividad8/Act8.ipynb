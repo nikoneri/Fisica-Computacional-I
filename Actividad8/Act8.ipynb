{
 "cells": [
  {
   "cell_type": "code",
   "execution_count": 56,
   "metadata": {},
   "outputs": [],
   "source": [
    "#!python\n",
    "from numpy import *\n",
    "import pylab as p\n",
    "# Definition of parameters\n",
    "mu=2.8\n",
    "def dX_dt(X, t=0):\n",
    "    \"\"\" Return the growth rate of fox and rabbit populations. \"\"\"\n",
    "    return array([ X[1], mu*(1-(X[0]**2))*X[1]-X[0]])\n",
    "\n",
    "#    f = [mu*(y+x-((x**tres)/tres)),-x/mu]"
   ]
  },
  {
   "cell_type": "code",
   "execution_count": 65,
   "metadata": {},
   "outputs": [
    {
     "data": {
      "text/plain": [
       "'Integration successful.'"
      ]
     },
     "execution_count": 65,
     "metadata": {},
     "output_type": "execute_result"
    }
   ],
   "source": [
    "#!python\n",
    "from scipy import integrate\n",
    "t = linspace(0, 1000,  10000)              # time\n",
    "X0 = array([-3,-3 ])                     # initials conditions: 10 rabbits and 5 foxes\n",
    "X, infodict = integrate.odeint(dX_dt, X0, t, full_output=True)\n",
    "infodict['message']                     # >>> 'Integration successful.'"
   ]
  },
  {
   "cell_type": "code",
   "execution_count": 67,
   "metadata": {},
   "outputs": [],
   "source": [
    "#!python\n",
    "rabbits, foxes = X.T\n",
    "f1 = p.figure()\n",
    "p.plot(X, rabbits, 'r-', label='Rabbits')\n",
    "p.plot(X, foxes, 'b-', label='Foxes')\n",
    "p.grid()\n",
    "p.xlim(-6,6)\n",
    "p.ylim(-6,6)\n",
    "p.legend(loc='best')\n",
    "p.xlabel('time')\n",
    "p.ylabel('population')\n",
    "p.title('Evolution of fox and rabbit populations')\n",
    "f1.savefig('EX1.png')"
   ]
  },
  {
   "cell_type": "code",
   "execution_count": 50,
   "metadata": {},
   "outputs": [
    {
     "ename": "NameError",
     "evalue": "name 'X_f1' is not defined",
     "output_type": "error",
     "traceback": [
      "\u001b[0;31m---------------------------------------------------------------------------\u001b[0m",
      "\u001b[0;31mNameError\u001b[0m                                 Traceback (most recent call last)",
      "\u001b[0;32m<ipython-input-50-55b914a85b50>\u001b[0m in \u001b[0;36m<module>\u001b[0;34m()\u001b[0m\n\u001b[1;32m      7\u001b[0m \u001b[0;31m# plot trajectories\u001b[0m\u001b[0;34m\u001b[0m\u001b[0;34m\u001b[0m\u001b[0m\n\u001b[1;32m      8\u001b[0m \u001b[0;32mfor\u001b[0m \u001b[0mv\u001b[0m\u001b[0;34m,\u001b[0m \u001b[0mcol\u001b[0m \u001b[0;32min\u001b[0m \u001b[0mzip\u001b[0m\u001b[0;34m(\u001b[0m\u001b[0mvalues\u001b[0m\u001b[0;34m,\u001b[0m \u001b[0mvcolors\u001b[0m\u001b[0;34m)\u001b[0m\u001b[0;34m:\u001b[0m\u001b[0;34m\u001b[0m\u001b[0m\n\u001b[0;32m----> 9\u001b[0;31m     \u001b[0mX0\u001b[0m \u001b[0;34m=\u001b[0m \u001b[0mv\u001b[0m \u001b[0;34m*\u001b[0m \u001b[0mX_f1\u001b[0m                               \u001b[0;31m# starting point\u001b[0m\u001b[0;34m\u001b[0m\u001b[0m\n\u001b[0m\u001b[1;32m     10\u001b[0m     \u001b[0mX\u001b[0m \u001b[0;34m=\u001b[0m \u001b[0mintegrate\u001b[0m\u001b[0;34m.\u001b[0m\u001b[0modeint\u001b[0m\u001b[0;34m(\u001b[0m \u001b[0mdX_dt\u001b[0m\u001b[0;34m,\u001b[0m \u001b[0mX0\u001b[0m\u001b[0;34m,\u001b[0m \u001b[0mt\u001b[0m\u001b[0;34m)\u001b[0m         \u001b[0;31m# we don't need infodict here\u001b[0m\u001b[0;34m\u001b[0m\u001b[0m\n\u001b[1;32m     11\u001b[0m     \u001b[0mp\u001b[0m\u001b[0;34m.\u001b[0m\u001b[0mplot\u001b[0m\u001b[0;34m(\u001b[0m \u001b[0mX\u001b[0m\u001b[0;34m[\u001b[0m\u001b[0;34m:\u001b[0m\u001b[0;34m,\u001b[0m\u001b[0;36m0\u001b[0m\u001b[0;34m]\u001b[0m\u001b[0;34m,\u001b[0m \u001b[0mX\u001b[0m\u001b[0;34m[\u001b[0m\u001b[0;34m:\u001b[0m\u001b[0;34m,\u001b[0m\u001b[0;36m1\u001b[0m\u001b[0;34m]\u001b[0m\u001b[0;34m,\u001b[0m \u001b[0mlw\u001b[0m\u001b[0;34m=\u001b[0m\u001b[0;36m3.5\u001b[0m\u001b[0;34m*\u001b[0m\u001b[0mv\u001b[0m\u001b[0;34m,\u001b[0m \u001b[0mcolor\u001b[0m\u001b[0;34m=\u001b[0m\u001b[0mcol\u001b[0m\u001b[0;34m,\u001b[0m \u001b[0mlabel\u001b[0m\u001b[0;34m=\u001b[0m\u001b[0;34m'X0=(%.f, %.f)'\u001b[0m \u001b[0;34m%\u001b[0m \u001b[0;34m(\u001b[0m \u001b[0mX0\u001b[0m\u001b[0;34m[\u001b[0m\u001b[0;36m0\u001b[0m\u001b[0;34m]\u001b[0m\u001b[0;34m,\u001b[0m \u001b[0mX0\u001b[0m\u001b[0;34m[\u001b[0m\u001b[0;36m1\u001b[0m\u001b[0;34m]\u001b[0m\u001b[0;34m)\u001b[0m \u001b[0;34m)\u001b[0m\u001b[0;34m\u001b[0m\u001b[0m\n",
      "\u001b[0;31mNameError\u001b[0m: name 'X_f1' is not defined"
     ]
    }
   ],
   "source": [
    "values  = linspace(0.3, 0.9, 5)                          # position of X0 between X_f0 and X_f1\n",
    "vcolors = p.cm.autumn_r(linspace(0.3, 1., len(values)))  # colors for each trajectory\n",
    "\n",
    "f2 = p.figure()\n",
    "\n",
    "#-------------------------------------------------------\n",
    "# plot trajectories\n",
    "for v, col in zip(values, vcolors):\n",
    "    X0 = v * X_f1                               # starting point\n",
    "    X = integrate.odeint( dX_dt, X0, t)         # we don't need infodict here\n",
    "    p.plot( X[:,0], X[:,1], lw=3.5*v, color=col, label='X0=(%.f, %.f)' % ( X0[0], X0[1]) )\n",
    "\n",
    "#-------------------------------------------------------\n",
    "# define a grid and compute direction at each point\n",
    "ymax = p.ylim(ymin=0)[1]                        # get axis limits\n",
    "xmax = p.xlim(xmin=0)[1]\n",
    "nb_points   = 20\n",
    "\n",
    "x = linspace(0, xmax, nb_points)\n",
    "y = linspace(0, ymax, nb_points)\n",
    "\n",
    "X1 , Y1  = meshgrid(x, y)                       # create a grid\n",
    "DX1, DY1 = dX_dt([X1, Y1])                      # compute growth rate on the gridt\n",
    "M = (hypot(DX1, DY1))                           # Norm of the growth rate \n",
    "M[ M == 0] = 1.                                 # Avoid zero division errors \n",
    "DX1 /= M                                        # Normalize each arrows\n",
    "DY1 /= M\n",
    "\n",
    "#-------------------------------------------------------\n",
    "# Drow direction fields, using matplotlib 's quiver function\n",
    "# I choose to plot normalized arrows and to use colors to give information on\n",
    "# the growth speed\n",
    "p.title('Trajectories and direction fields')\n",
    "Q = p.quiver(X1, Y1, DX1, DY1, M, pivot='mid', cmap=p.cm.jet)\n",
    "p.xlabel('Number of rabbits')\n",
    "p.ylabel('Number of foxes')\n",
    "p.legend()\n",
    "p.grid()\n",
    "p.xlim(0, xmax)\n",
    "p.ylim(0, ymax)\n",
    "f2.savefig('rabbits_and_foxes_2.png')"
   ]
  },
  {
   "cell_type": "code",
   "execution_count": null,
   "metadata": {},
   "outputs": [],
   "source": []
  }
 ],
 "metadata": {
  "kernelspec": {
   "display_name": "Python 3",
   "language": "python",
   "name": "python3"
  },
  "language_info": {
   "codemirror_mode": {
    "name": "ipython",
    "version": 3
   },
   "file_extension": ".py",
   "mimetype": "text/x-python",
   "name": "python",
   "nbconvert_exporter": "python",
   "pygments_lexer": "ipython3",
   "version": "3.6.3"
  }
 },
 "nbformat": 4,
 "nbformat_minor": 2
}
